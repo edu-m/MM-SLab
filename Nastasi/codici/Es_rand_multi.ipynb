{
 "cells": [
  {
   "cell_type": "code",
   "execution_count": 1,
   "id": "5927213b",
   "metadata": {},
   "outputs": [],
   "source": [
    "# Esercizio sulla generazione di numeri random con distribuzione multinomiale"
   ]
  },
  {
   "cell_type": "code",
   "execution_count": 2,
   "id": "1e34ddc8",
   "metadata": {},
   "outputs": [],
   "source": [
    "import numpy as np\n",
    "import matplotlib.pyplot as plt"
   ]
  },
  {
   "cell_type": "code",
   "execution_count": 3,
   "id": "c99bb5be",
   "metadata": {},
   "outputs": [],
   "source": [
    "def rand_multi(p):\n",
    "    m = p.size\n",
    "    F = np.cumsum(p)\n",
    "    xi = np.random.rand()\n",
    "    X = np.nonzero(xi<F)[0][0]+1\n",
    "    return X"
   ]
  },
  {
   "cell_type": "code",
   "execution_count": 4,
   "id": "6eec0074",
   "metadata": {},
   "outputs": [],
   "source": [
    "p = np.array([1/4, 1/2, 1/4])"
   ]
  },
  {
   "cell_type": "code",
   "execution_count": 5,
   "id": "8fe1a82e",
   "metadata": {},
   "outputs": [
    {
     "data": {
      "text/plain": [
       "array([ 463., 1041.,  496.])"
      ]
     },
     "metadata": {},
     "output_type": "display_data"
    },
    {
     "data": {
      "text/plain": [
       "2000.0"
      ]
     },
     "metadata": {},
     "output_type": "display_data"
    }
   ],
   "source": [
    "N = 2000\n",
    "X = np.zeros(N)\n",
    "for i in range(N):\n",
    "    X[i] = rand_multi(p)\n",
    "\n",
    "m = p.size\n",
    "F = np.zeros(m)\n",
    "for i in range(m):\n",
    "    F[i] = np.sum(X==i+1)\n",
    "display(F)\n",
    "display(np.sum(F))"
   ]
  },
  {
   "cell_type": "code",
   "execution_count": 6,
   "id": "9978d193",
   "metadata": {},
   "outputs": [
    {
     "data": {
      "image/png": "[encoded data removed]",
      "text/plain": [
       "<Figure size 640x480 with 1 Axes>"
      ]
     },
     "metadata": {},
     "output_type": "display_data"
    }
   ],
   "source": [
    "# Istogramma\n",
    "x = np.arange(m)+1\n",
    "F = F/np.sum(F)\n",
    "plt.bar(x,F)\n",
    "plt.show()"
   ]
  },
  {
   "cell_type": "code",
   "execution_count": null,
   "id": "a480a280",
   "metadata": {},
   "outputs": [],
   "source": []
  },
  {
   "cell_type": "code",
   "execution_count": null,
   "id": "ba921de7",
   "metadata": {},
   "outputs": [],
   "source": []
  }
 ],
 "metadata": {
  "kernelspec": {
   "display_name": "Python 3 (ipykernel)",
   "language": "python",
   "name": "python3"
  },
  "language_info": {
   "codemirror_mode": {
    "name": "ipython",
    "version": 3
   },
   "file_extension": ".py",
   "mimetype": "text/x-python",
   "name": "python",
   "nbconvert_exporter": "python",
   "pygments_lexer": "ipython3",
   "version": "3.11.8"
  }
 },
 "nbformat": 4,
 "nbformat_minor": 5
}
